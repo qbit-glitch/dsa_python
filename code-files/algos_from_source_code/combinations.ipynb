{
 "cells": [
  {
   "cell_type": "markdown",
   "id": "734ac0cf",
   "metadata": {},
   "source": [
    "## Codes to find Combinations: (n,r)\n",
    "\n",
    "Source Code Reference: https://docs.python.org/3/library/itertools.html"
   ]
  },
  {
   "cell_type": "markdown",
   "id": "4211ace4",
   "metadata": {},
   "source": [
    "### Combinations without replacement"
   ]
  },
  {
   "cell_type": "code",
   "execution_count": 1,
   "id": "8a845091",
   "metadata": {},
   "outputs": [
    {
     "name": "stdout",
     "output_type": "stream",
     "text": [
      "('A', 'B', 'C')\n",
      "('A', 'B', 'D')\n",
      "('A', 'B', 'E')\n",
      "('A', 'C', 'D')\n",
      "('A', 'C', 'E')\n",
      "('A', 'D', 'E')\n",
      "('B', 'C', 'D')\n",
      "('B', 'C', 'E')\n",
      "('B', 'D', 'E')\n",
      "('C', 'D', 'E')\n"
     ]
    }
   ],
   "source": [
    "def combinations(iterable, r):\n",
    "    # Combinations('ABCD',2) -> AB AC AD BC BD CD\n",
    "    # Combinations(range(4),3) -> 012 013 023 123\n",
    "    \n",
    "    pool = tuple(iterable)\n",
    "    n = len(pool)\n",
    "    if r > n :\n",
    "        return\n",
    "    indices = list(range(r))\n",
    "    \n",
    "    yield tuple(pool[i] for i in indices)\n",
    "\n",
    "    while True:\n",
    "        for i in reversed(range(r)):\n",
    "            if indices[i] != i + n - r :\n",
    "                break\n",
    "        else:\n",
    "            return\n",
    "        indices[i] += 1\n",
    "        for j in range(i+1, r):\n",
    "            indices[j] = indices[j-1] + 1\n",
    "        yield tuple(pool[i] for i in indices)\n",
    "\n",
    "\n",
    "\n",
    "for i in combinations(\"ABCDE\", 3):\n",
    "    print(i)\n"
   ]
  },
  {
   "cell_type": "markdown",
   "id": "2e6186a1",
   "metadata": {},
   "source": [
    "### Combinations with Replacement"
   ]
  },
  {
   "cell_type": "code",
   "execution_count": 3,
   "id": "1d5406eb",
   "metadata": {},
   "outputs": [
    {
     "name": "stdout",
     "output_type": "stream",
     "text": [
      "('A', 'A', 'A')\n",
      "('A', 'A', 'B')\n",
      "('A', 'A', 'C')\n",
      "('A', 'A', 'D')\n",
      "('A', 'A', 'E')\n",
      "('A', 'B', 'B')\n",
      "('A', 'B', 'C')\n",
      "('A', 'B', 'D')\n",
      "('A', 'B', 'E')\n",
      "('A', 'C', 'C')\n",
      "('A', 'C', 'D')\n",
      "('A', 'C', 'E')\n",
      "('A', 'D', 'D')\n",
      "('A', 'D', 'E')\n",
      "('A', 'E', 'E')\n",
      "('B', 'B', 'B')\n",
      "('B', 'B', 'C')\n",
      "('B', 'B', 'D')\n",
      "('B', 'B', 'E')\n",
      "('B', 'C', 'C')\n",
      "('B', 'C', 'D')\n",
      "('B', 'C', 'E')\n",
      "('B', 'D', 'D')\n",
      "('B', 'D', 'E')\n",
      "('B', 'E', 'E')\n",
      "('C', 'C', 'C')\n",
      "('C', 'C', 'D')\n",
      "('C', 'C', 'E')\n",
      "('C', 'D', 'D')\n",
      "('C', 'D', 'E')\n",
      "('C', 'E', 'E')\n",
      "('D', 'D', 'D')\n",
      "('D', 'D', 'E')\n",
      "('D', 'E', 'E')\n",
      "('E', 'E', 'E')\n"
     ]
    }
   ],
   "source": [
    "def combinations_with_replacement(iterable, r):\n",
    "    # combinations_with_replacement('ABC',2) -> AA AB AC BB BC CC\n",
    "    pool = tuple(iterable)\n",
    "    n = len(pool)\n",
    "    if not n and r:\n",
    "        return\n",
    "    indices = [0] * r\n",
    "    yield tuple(pool[i] for i in indices)\n",
    "\n",
    "    while True:\n",
    "        for i in reversed(range(r)):\n",
    "            if indices[i] != n - 1:\n",
    "                break\n",
    "        else :\n",
    "            return\n",
    "        indices[i:] = [indices[i] + 1] * (r-i)\n",
    "        yield tuple(pool[i] for i in indices)\n",
    "\n",
    "\n",
    "for i in combinations_with_replacement(\"ABCDE\", 3):\n",
    "    print(i)"
   ]
  }
 ],
 "metadata": {
  "kernelspec": {
   "display_name": "venv1",
   "language": "python",
   "name": "venv1"
  },
  "language_info": {
   "codemirror_mode": {
    "name": "ipython",
    "version": 3
   },
   "file_extension": ".py",
   "mimetype": "text/x-python",
   "name": "python",
   "nbconvert_exporter": "python",
   "pygments_lexer": "ipython3",
   "version": "3.13.5"
  }
 },
 "nbformat": 4,
 "nbformat_minor": 5
}
