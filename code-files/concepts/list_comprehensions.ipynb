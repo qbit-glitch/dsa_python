{
 "cells": [
  {
   "cell_type": "markdown",
   "id": "5e4cdb1c",
   "metadata": {},
   "source": [
    "## 10 List Comprehension you should be using\n",
    "\n",
    "Reference: https://youtu.be/twxE0dEp3qQ?si=H-4ww1A8UL6e3vg2"
   ]
  },
  {
   "cell_type": "markdown",
   "id": "8083d6b9",
   "metadata": {},
   "source": [
    "### Basic List Comprehension\n"
   ]
  },
  {
   "cell_type": "code",
   "execution_count": 2,
   "id": "44a4228f",
   "metadata": {},
   "outputs": [
    {
     "name": "stdout",
     "output_type": "stream",
     "text": [
      "[0, 1, 2, 3, 4, 5, 6, 7, 8, 9]\n"
     ]
    }
   ],
   "source": [
    "# Without List COmprehension\n",
    "values = []\n",
    "for x in range(10):\n",
    "    values.append(x)\n",
    "print(values)"
   ]
  },
  {
   "cell_type": "code",
   "execution_count": 4,
   "id": "04ce1907",
   "metadata": {},
   "outputs": [
    {
     "name": "stdout",
     "output_type": "stream",
     "text": [
      "[1, 2, 3, 4, 5, 6, 7, 8, 9, 10]\n"
     ]
    }
   ],
   "source": [
    "# With List Comprehension\n",
    "values = [x+1 for x in range(10)]\n",
    "print(values)"
   ]
  },
  {
   "cell_type": "markdown",
   "id": "c58f7242",
   "metadata": {},
   "source": [
    "### Comprehension Condition"
   ]
  },
  {
   "cell_type": "code",
   "execution_count": 5,
   "id": "0c77ef14",
   "metadata": {},
   "outputs": [
    {
     "name": "stdout",
     "output_type": "stream",
     "text": [
      "[0, 2, 4, 6, 8]\n"
     ]
    }
   ],
   "source": [
    "# Without List Comprehension\n",
    "evens = []\n",
    "for number in range(10):\n",
    "    is_even = number % 2 == 0\n",
    "    if is_even:\n",
    "        evens.append(number)\n",
    "print(evens)"
   ]
  },
  {
   "cell_type": "code",
   "execution_count": 6,
   "id": "758d97bb",
   "metadata": {},
   "outputs": [
    {
     "name": "stdout",
     "output_type": "stream",
     "text": [
      "[0, 2, 4, 6, 8]\n"
     ]
    }
   ],
   "source": [
    "# With List Comprehension\n",
    "evens = [number for number in range(10) if number % 2 == 0]\n",
    "print(evens)"
   ]
  },
  {
   "cell_type": "markdown",
   "id": "ddd3d3b4",
   "metadata": {},
   "source": [
    "### Comprehension With Multiple Conditions"
   ]
  },
  {
   "cell_type": "code",
   "execution_count": 7,
   "id": "b7b392c9",
   "metadata": {},
   "outputs": [
    {
     "name": "stdout",
     "output_type": "stream",
     "text": [
      "['any', 'albany']\n"
     ]
    }
   ],
   "source": [
    "# Without List Comprehension\n",
    "options = [\"any\", \"albany\", \"apple\", \"world\", \"hello\", \"\"]\n",
    "valid_strings = []\n",
    "\n",
    "for string in options:\n",
    "    if len(string) <= 1:\n",
    "        continue\n",
    "    if string[0] != 'a':\n",
    "        continue\n",
    "    if string[-1] != 'y':\n",
    "        continue\n",
    "    valid_strings.append(string)\n",
    "print(valid_strings)"
   ]
  },
  {
   "cell_type": "code",
   "execution_count": 8,
   "id": "c8b785d4",
   "metadata": {},
   "outputs": [
    {
     "name": "stdout",
     "output_type": "stream",
     "text": [
      "['any', 'albany']\n"
     ]
    }
   ],
   "source": [
    "# With List Comprehension\n",
    "valid_strings = [ string for string in options\n",
    "    if len(string) >= 2\n",
    "    if string[0] == 'a'\n",
    "    if string[-1] == 'y'\n",
    "]\n",
    "print(valid_strings)"
   ]
  },
  {
   "cell_type": "markdown",
   "id": "d639ac31",
   "metadata": {},
   "source": [
    "### Multiple List Comprehension"
   ]
  },
  {
   "cell_type": "code",
   "execution_count": 9,
   "id": "23996485",
   "metadata": {},
   "outputs": [
    {
     "name": "stdout",
     "output_type": "stream",
     "text": [
      "[1, 2, 3, 4, 5, 6, 7, 8, 9]\n"
     ]
    }
   ],
   "source": [
    "# Without List Comprehension\n",
    "# Flattening a matrix (list of lists)\n",
    "\n",
    "matrix = [[1,2,3], [4,5,6], [7,8,9]]\n",
    "flattened = []\n",
    "\n",
    "for row in matrix:\n",
    "    for num in row:\n",
    "        flattened.append(num)\n",
    "print(flattened)"
   ]
  },
  {
   "cell_type": "code",
   "execution_count": 11,
   "id": "19720abe",
   "metadata": {},
   "outputs": [
    {
     "name": "stdout",
     "output_type": "stream",
     "text": [
      "[1, 2, 3, 4, 5, 6, 7, 8, 9]\n"
     ]
    }
   ],
   "source": [
    "# With List Comprehension\n",
    "\n",
    "flattened = [num for row in matrix for num in row]\n",
    "print(flattened)"
   ]
  },
  {
   "cell_type": "markdown",
   "id": "2db4642e",
   "metadata": {},
   "source": [
    "### if/else in a Comprehension"
   ]
  },
  {
   "cell_type": "code",
   "execution_count": 12,
   "id": "26912eeb",
   "metadata": {},
   "outputs": [
    {
     "name": "stdout",
     "output_type": "stream",
     "text": [
      "['Even', 'Odd', 'Even', 'Odd', 'Even', 'Odd', 'Even', 'Odd', 'Even', 'Odd']\n"
     ]
    }
   ],
   "source": [
    "# Without List Comprehension\n",
    "categories = []\n",
    "\n",
    "for number in range(10):\n",
    "    if number % 2 == 0:\n",
    "        categories.append(\"Even\")\n",
    "    else:\n",
    "        categories.append(\"Odd\")\n",
    "print(categories)"
   ]
  },
  {
   "cell_type": "code",
   "execution_count": 14,
   "id": "9b911033",
   "metadata": {},
   "outputs": [
    {
     "name": "stdout",
     "output_type": "stream",
     "text": [
      "['Even', 'Odd', 'Even', 'Odd', 'Even', 'Odd', 'Even', 'Odd', 'Even', 'Odd']\n"
     ]
    }
   ],
   "source": [
    "# With List Comprehension\n",
    "categories = [\"Even\" if num % 2 == 0 else \"Odd\" for num in range(10)]\n",
    "print(categories)"
   ]
  },
  {
   "cell_type": "markdown",
   "id": "43469dce",
   "metadata": {},
   "source": [
    "### Nested List Comprehension\n"
   ]
  },
  {
   "cell_type": "code",
   "execution_count": 16,
   "id": "bb1934f3",
   "metadata": {},
   "outputs": [
    {
     "name": "stdout",
     "output_type": "stream",
     "text": [
      "[[[0, 1, 2, 3, 4], [0, 1, 2, 3, 4], [0, 1, 2, 3, 4], [0, 1, 2, 3, 4], [0, 1, 2, 3, 4]], [[0, 1, 2, 3, 4], [0, 1, 2, 3, 4], [0, 1, 2, 3, 4], [0, 1, 2, 3, 4], [0, 1, 2, 3, 4]], [[0, 1, 2, 3, 4], [0, 1, 2, 3, 4], [0, 1, 2, 3, 4], [0, 1, 2, 3, 4], [0, 1, 2, 3, 4]], [[0, 1, 2, 3, 4], [0, 1, 2, 3, 4], [0, 1, 2, 3, 4], [0, 1, 2, 3, 4], [0, 1, 2, 3, 4]], [[0, 1, 2, 3, 4], [0, 1, 2, 3, 4], [0, 1, 2, 3, 4], [0, 1, 2, 3, 4], [0, 1, 2, 3, 4]]]\n"
     ]
    }
   ],
   "source": [
    "# Without List Comprehension\n",
    "import pprint\n",
    "\n",
    "printer = pprint.PrettyPrinter()\n",
    "\n",
    "lst = []\n",
    "\n",
    "for a in range(5):\n",
    "    l1 = []\n",
    "    for b in range(5):\n",
    "        l2 = []\n",
    "        for num in range(5):\n",
    "            l2.append(num)\n",
    "        l1.append(l2)\n",
    "    lst.append(l1)\n",
    "print(lst)"
   ]
  },
  {
   "cell_type": "code",
   "execution_count": 18,
   "id": "05bca7df",
   "metadata": {},
   "outputs": [
    {
     "name": "stdout",
     "output_type": "stream",
     "text": [
      "[[[0, 1, 2, 3, 4], [0, 1, 2, 3, 4], [0, 1, 2, 3, 4], [0, 1, 2, 3, 4], [0, 1, 2, 3, 4]], [[0, 1, 2, 3, 4], [0, 1, 2, 3, 4], [0, 1, 2, 3, 4], [0, 1, 2, 3, 4], [0, 1, 2, 3, 4]], [[0, 1, 2, 3, 4], [0, 1, 2, 3, 4], [0, 1, 2, 3, 4], [0, 1, 2, 3, 4], [0, 1, 2, 3, 4]], [[0, 1, 2, 3, 4], [0, 1, 2, 3, 4], [0, 1, 2, 3, 4], [0, 1, 2, 3, 4], [0, 1, 2, 3, 4]], [[0, 1, 2, 3, 4], [0, 1, 2, 3, 4], [0, 1, 2, 3, 4], [0, 1, 2, 3, 4], [0, 1, 2, 3, 4]]]\n"
     ]
    }
   ],
   "source": [
    "# With List Comprehension\n",
    "lst = [[[num for num in range(5)] for _ in range(5)] for _ in range(5)]\n",
    "print(lst)"
   ]
  },
  {
   "cell_type": "markdown",
   "id": "11ad0ca0",
   "metadata": {},
   "source": [
    "### Transformation in List\n"
   ]
  },
  {
   "cell_type": "code",
   "execution_count": 19,
   "id": "169c1169",
   "metadata": {},
   "outputs": [
    {
     "name": "stdout",
     "output_type": "stream",
     "text": [
      "[0, 1, 4, 9, 16, 25, 36, 49, 64, 81]\n"
     ]
    }
   ],
   "source": [
    "# Without List Comprehension\n",
    "def square(x):\n",
    "    return x ** 2\n",
    "squared_numbers = [square(x) for x in range(10)]\n",
    "print(squared_numbers)"
   ]
  },
  {
   "cell_type": "markdown",
   "id": "91e5f91a",
   "metadata": {},
   "source": [
    "### Dictionary Comprehension"
   ]
  },
  {
   "cell_type": "code",
   "execution_count": 20,
   "id": "b3bae0f9",
   "metadata": {},
   "outputs": [
    {
     "name": "stdout",
     "output_type": "stream",
     "text": [
      "{'a': 1, 'b': 2, 'c': 3}\n"
     ]
    }
   ],
   "source": [
    "pairs = [(\"a\",1), (\"b\",2), (\"c\",3)]\n",
    "\n",
    "my_dict = {k:v for k,v in pairs}\n",
    "print(my_dict)"
   ]
  },
  {
   "cell_type": "markdown",
   "id": "21157a7a",
   "metadata": {},
   "source": [
    "### Set Comprehensions"
   ]
  },
  {
   "cell_type": "code",
   "execution_count": 21,
   "id": "99444d1e",
   "metadata": {},
   "outputs": [
    {
     "name": "stdout",
     "output_type": "stream",
     "text": [
      "{64, 1, 4, 36, 9, 16, 49, 25}\n"
     ]
    }
   ],
   "source": [
    "nums = [1,1,2,3,4,5,4,3,2,8,7,4,6]\n",
    "unique_squares = {v**2 for v in nums}\n",
    "print(unique_squares)"
   ]
  },
  {
   "cell_type": "markdown",
   "id": "ae50e7d5",
   "metadata": {},
   "source": [
    "### Generator Comprehension\n",
    "\n",
    "Generator:\n",
    "- Quick Summary\n",
    "- Retuns value when needed\n",
    "- Gives next value\n",
    "\n",
    "`sum()` asks for each value sequentially, and add it to a sum that it's strong internally."
   ]
  },
  {
   "cell_type": "code",
   "execution_count": 22,
   "id": "3089f7bb",
   "metadata": {},
   "outputs": [
    {
     "name": "stdout",
     "output_type": "stream",
     "text": [
      "49999995000000\n"
     ]
    }
   ],
   "source": [
    "# Generator Comprehension\n",
    "\n",
    "sum_of_squares = sum(x for x in range(10000000))\n",
    "print(sum_of_squares)"
   ]
  },
  {
   "cell_type": "code",
   "execution_count": null,
   "id": "1d840d43",
   "metadata": {},
   "outputs": [],
   "source": []
  }
 ],
 "metadata": {
  "kernelspec": {
   "display_name": "venv1",
   "language": "python",
   "name": "venv1"
  },
  "language_info": {
   "codemirror_mode": {
    "name": "ipython",
    "version": 3
   },
   "file_extension": ".py",
   "mimetype": "text/x-python",
   "name": "python",
   "nbconvert_exporter": "python",
   "pygments_lexer": "ipython3",
   "version": "3.13.5"
  }
 },
 "nbformat": 4,
 "nbformat_minor": 5
}
