{
 "cells": [
  {
   "cell_type": "markdown",
   "id": "5bb208f4",
   "metadata": {},
   "source": [
    "## Lambda Functions"
   ]
  },
  {
   "cell_type": "markdown",
   "id": "d29309ab",
   "metadata": {},
   "source": [
    "reference: https://youtu.be/HQNiSfb795A?si=tFpfOlUkEYi3GzjM"
   ]
  },
  {
   "cell_type": "markdown",
   "id": "6f6e7aad",
   "metadata": {},
   "source": [
    "### Basics"
   ]
  },
  {
   "cell_type": "code",
   "execution_count": 5,
   "id": "a3adef59",
   "metadata": {},
   "outputs": [
    {
     "name": "stdout",
     "output_type": "stream",
     "text": [
      "38\n"
     ]
    }
   ],
   "source": [
    "add_1 = lambda x,y: x+y\n",
    "\n",
    "result = add_1(8,30)\n",
    "print(result)"
   ]
  },
  {
   "cell_type": "code",
   "execution_count": 6,
   "id": "728816a1",
   "metadata": {},
   "outputs": [],
   "source": [
    "my_numbers = [1,2,3,4,5,6,7,8,9,10]"
   ]
  },
  {
   "cell_type": "markdown",
   "id": "a7d52ed8",
   "metadata": {},
   "source": [
    "### Maps\n",
    "\n",
    "Take some list/iterable object and apply a function to every single value inside of it. "
   ]
  },
  {
   "cell_type": "code",
   "execution_count": 7,
   "id": "9dea5ac2",
   "metadata": {},
   "outputs": [
    {
     "name": "stdout",
     "output_type": "stream",
     "text": [
      "[1, 4, 9, 16, 25, 36, 49, 64, 81, 100]\n"
     ]
    }
   ],
   "source": [
    "# Without Lamda Function\n",
    "def square(x):\n",
    "    return x ** 2\n",
    "\n",
    "squares = list(map(square, my_numbers))\n",
    "print(squares)"
   ]
  },
  {
   "cell_type": "code",
   "execution_count": 8,
   "id": "4ecdf374",
   "metadata": {},
   "outputs": [
    {
     "name": "stdout",
     "output_type": "stream",
     "text": [
      "[1, 4, 9, 16, 25, 36, 49, 64, 81, 100]\n"
     ]
    }
   ],
   "source": [
    "# Using Lambda\n",
    "\n",
    "squares = list(map(lambda x: x**2, my_numbers))\n",
    "print(squares)"
   ]
  },
  {
   "cell_type": "markdown",
   "id": "d0a45264",
   "metadata": {},
   "source": [
    "### Filter Function\n",
    "\n",
    "Apply function to every single value inside of list/iterable object. So it's filtering some kind of iterable object.\n"
   ]
  },
  {
   "cell_type": "code",
   "execution_count": 9,
   "id": "50eec291",
   "metadata": {},
   "outputs": [
    {
     "name": "stdout",
     "output_type": "stream",
     "text": [
      "[2, 4, 6, 8, 10]\n"
     ]
    }
   ],
   "source": [
    "evens = list(filter(lambda x: x % 2 == 0, my_numbers))\n",
    "print(evens)"
   ]
  },
  {
   "cell_type": "markdown",
   "id": "dd5a5b57",
   "metadata": {},
   "source": [
    "### Sort\n"
   ]
  },
  {
   "cell_type": "code",
   "execution_count": 15,
   "id": "25b75168",
   "metadata": {},
   "outputs": [
    {
     "name": "stdout",
     "output_type": "stream",
     "text": [
      "[(1, 'b', 'hello'), (3, 'c', 'ok'), (2, 'a', 'world')]\n"
     ]
    }
   ],
   "source": [
    "values = [(1,'b',\"hello\"), (2,'a',\"world\"), (3,'c',\"ok\")]\n",
    "\n",
    "sorted_values = sorted(values, key = lambda x: x[2])\n",
    "print(list(sorted_values))"
   ]
  },
  {
   "cell_type": "markdown",
   "id": "d0896029",
   "metadata": {},
   "source": [
    "### Advanced Examples\n",
    "\n",
    "reduce(): It's going to reduce some kind of iterable object to a single value.\n",
    "Accept two arguments. First is the accumulated value that we have so far, and the second is the next value that we are gonna be processing from out iterable objects."
   ]
  },
  {
   "cell_type": "code",
   "execution_count": 3,
   "id": "7bf841f7",
   "metadata": {},
   "outputs": [
    {
     "name": "stdout",
     "output_type": "stream",
     "text": [
      "91\n",
      "31\n"
     ]
    }
   ],
   "source": [
    "from functools import reduce\n",
    "\n",
    "numbers = [1,2,3,4,15, 4,9,19,3,31]\n",
    "\n",
    "# Using reduce to sum the list without initializer\n",
    "sum_of_numbers = reduce(lambda acc,x: acc + x, numbers)\n",
    "print(sum_of_numbers)\n",
    "\n",
    "# Using reduce to find the maximum value\n",
    "max_value = reduce(lambda acc, x: acc if acc > x else x, numbers)\n",
    "print(max_value)\n"
   ]
  },
  {
   "cell_type": "code",
   "execution_count": 5,
   "id": "358aa3d6",
   "metadata": {},
   "outputs": [
    {
     "name": "stdout",
     "output_type": "stream",
     "text": [
      "{0: 0, 1: 1, 2: 4, 3: 9, 4: 16, 5: 25, 6: 36, 7: 49, 8: 64, 9: 81}\n"
     ]
    }
   ],
   "source": [
    "fancy_comp = {x: (lambda x: x*x)(x) for x in range(10)}\n",
    "print(fancy_comp)"
   ]
  },
  {
   "cell_type": "code",
   "execution_count": null,
   "id": "9ca0862a",
   "metadata": {},
   "outputs": [],
   "source": []
  }
 ],
 "metadata": {
  "kernelspec": {
   "display_name": "venv1",
   "language": "python",
   "name": "venv1"
  },
  "language_info": {
   "codemirror_mode": {
    "name": "ipython",
    "version": 3
   },
   "file_extension": ".py",
   "mimetype": "text/x-python",
   "name": "python",
   "nbconvert_exporter": "python",
   "pygments_lexer": "ipython3",
   "version": "3.13.5"
  }
 },
 "nbformat": 4,
 "nbformat_minor": 5
}
