{
 "cells": [
  {
   "cell_type": "markdown",
   "id": "423b25aa",
   "metadata": {},
   "source": [
    "### for loop with else in python\n",
    "\n",
    "The else block will be executed only when the loop is NOT terminated abruptly by the break keyword.\n",
    "\n",
    "Syntax:\n",
    "```python\n",
    "for var in sequence:\n",
    "    # statments inside for\n",
    "else:\n",
    "    # statements inside else\n",
    "```"
   ]
  },
  {
   "cell_type": "code",
   "execution_count": null,
   "id": "d89cdac6",
   "metadata": {},
   "outputs": [
    {
     "name": "stdout",
     "output_type": "stream",
     "text": [
      "not found\n"
     ]
    }
   ],
   "source": [
    "nums = [12,14,16,18,19]\n",
    "for num in nums:\n",
    "    if num % 5 == 0:\n",
    "        print(num)\n",
    "        break\n",
    "else:\n",
    "    print(\"not found\")"
   ]
  },
  {
   "cell_type": "markdown",
   "id": "9a7665b2",
   "metadata": {},
   "source": [
    "The way, this `else` statement works is, it checks if you broke out of the loop using the break keyword or if you reach the end of the loop. It's extremely useful, because sometimes we exit the loop and we wanna know how we exited the loop."
   ]
  },
  {
   "cell_type": "code",
   "execution_count": null,
   "id": "5cd97f29",
   "metadata": {},
   "outputs": [
    {
     "name": "stdout",
     "output_type": "stream",
     "text": [
      "1 is only in list 1\n",
      "2 is in BOTH lists\n",
      "3 is only in list 1\n",
      "4 is in BOTH lists\n",
      "5 is only in list 1\n",
      "6 is in BOTH lists\n"
     ]
    }
   ],
   "source": [
    "list1 = [1,2,3,4,5,6]\n",
    "list2 = [2,4,6]\n",
    "\n",
    "for x in list1:\n",
    "    for y in list2:\n",
    "        if x == y:\n",
    "            print(x, \"is in BOTH lists\")\n",
    "            break\n",
    "    else:\n",
    "        print(x, \"is only in list 1\")"
   ]
  },
  {
   "cell_type": "code",
   "execution_count": null,
   "id": "b420a22b",
   "metadata": {},
   "outputs": [
    {
     "name": "stdout",
     "output_type": "stream",
     "text": [
      "1\n",
      "2\n",
      "3\n",
      "4\n",
      "5\n"
     ]
    }
   ],
   "source": [
    "def count_up_to(max):\n",
    "    count = 1\n",
    "    while count <= max:\n",
    "        yield count\n",
    "        count += 1\n",
    "\n",
    "num = count_up_to(10)\n",
    "print(next(num))\n",
    "print(next(num))\n",
    "print(next(num))\n",
    "print(next(num))\n",
    "print(next(num))\n"
   ]
  }
 ],
 "metadata": {
  "language_info": {
   "name": "python"
  }
 },
 "nbformat": 4,
 "nbformat_minor": 5
}
