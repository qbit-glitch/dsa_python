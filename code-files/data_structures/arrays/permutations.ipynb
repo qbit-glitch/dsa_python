{
 "cells": [
  {
   "cell_type": "code",
   "execution_count": 1,
   "id": "865a114c",
   "metadata": {},
   "outputs": [
    {
     "name": "stdout",
     "output_type": "stream",
     "text": [
      "Permutations: Recursive & Backtrack methods\n"
     ]
    }
   ],
   "source": [
    "print(\"Permutations: Recursive & Backtrack methods\")"
   ]
  },
  {
   "cell_type": "code",
   "execution_count": 2,
   "id": "c104e766",
   "metadata": {},
   "outputs": [
    {
     "name": "stdout",
     "output_type": "stream",
     "text": [
      "[1, 2, 3]\n"
     ]
    }
   ],
   "source": [
    "nums = [1,2,3]\n",
    "print(nums)"
   ]
  },
  {
   "cell_type": "code",
   "execution_count": 3,
   "id": "bd6bd066",
   "metadata": {},
   "outputs": [
    {
     "name": "stdout",
     "output_type": "stream",
     "text": [
      "[1, 2, 3]\n"
     ]
    },
    {
     "data": {
      "text/plain": [
       "[[3, 2, 1], [2, 3, 1], [1, 3, 2], [3, 1, 2], [2, 1, 3], [1, 2, 3]]"
      ]
     },
     "execution_count": 3,
     "metadata": {},
     "output_type": "execute_result"
    }
   ],
   "source": [
    "def permute_recursive(nums: list[int]) -> list[list[int]]:\n",
    "\n",
    "    if len(nums) == 0 :\n",
    "        return [[]]\n",
    "\n",
    "    result: list[list[int]] = []\n",
    "    \n",
    "    for _ in range(len(nums)):\n",
    "        n = nums.pop(0)\n",
    "        permutations = permute_recursive(nums)\n",
    "        for perm in permutations:\n",
    "            perm.append(n)\n",
    "        \n",
    "        result.extend(permutations)\n",
    "        nums.append(n)\n",
    "\n",
    "    return result\n",
    "\n",
    "print(nums)\n",
    "permute_recursive(nums)"
   ]
  },
  {
   "cell_type": "code",
   "execution_count": 4,
   "id": "78f26e98",
   "metadata": {},
   "outputs": [
    {
     "data": {
      "text/plain": [
       "[[1, 2, 3], [1, 3, 2], [2, 1, 3], [2, 3, 1], [3, 2, 1], [3, 1, 2]]"
      ]
     },
     "execution_count": 4,
     "metadata": {},
     "output_type": "execute_result"
    }
   ],
   "source": [
    "def permute_backtrack(nums: list[int]) -> list[list[int]]:\n",
    "    \"\"\"\n",
    "    Return all permutations of the given list.\n",
    "\n",
    "    >>> permute_backtrack([1,2,3])\n",
    "    [[1, 2, 3], [1, 3, 2], [2, 1, 3], [2, 3, 1], [3, 2, 1], [3, 1, 2]]\n",
    "    \"\"\"\n",
    "\n",
    "    def backtrack(start: int) -> None:\n",
    "        if start == len(nums) - 1 :\n",
    "            output.append(nums[:])\n",
    "        else :\n",
    "            for i in range(start,  len(nums)):\n",
    "                nums[start],  nums[i] = nums[i], nums[start]\n",
    "                backtrack(start+1)\n",
    "                nums[i], nums[start] = nums[start], nums[i]\n",
    "    \n",
    "    output: list[list[int]] = []\n",
    "    backtrack(0)\n",
    "    return output\n",
    "\n",
    "permute_backtrack(nums)"
   ]
  },
  {
   "cell_type": "code",
   "execution_count": 5,
   "id": "6838b033",
   "metadata": {},
   "outputs": [
    {
     "name": "stdout",
     "output_type": "stream",
     "text": [
      "[[1, 2, 3], [1, 3, 2], [2, 1, 3], [2, 3, 1], [3, 2, 1], [3, 1, 2]]\n"
     ]
    }
   ],
   "source": [
    "if __name__ == \"__main__\":\n",
    "    import doctest\n",
    "\n",
    "    nums = [1,2,3]\n",
    "    result = permute_backtrack(nums)\n",
    "    print(result)\n",
    "\n",
    "    doctest.testmod()"
   ]
  },
  {
   "cell_type": "code",
   "execution_count": null,
   "id": "62d3365a",
   "metadata": {},
   "outputs": [],
   "source": []
  }
 ],
 "metadata": {
  "kernelspec": {
   "display_name": "venv1",
   "language": "python",
   "name": "venv1"
  },
  "language_info": {
   "codemirror_mode": {
    "name": "ipython",
    "version": 3
   },
   "file_extension": ".py",
   "mimetype": "text/x-python",
   "name": "python",
   "nbconvert_exporter": "python",
   "pygments_lexer": "ipython3",
   "version": "3.13.5"
  }
 },
 "nbformat": 4,
 "nbformat_minor": 5
}
